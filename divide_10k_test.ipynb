{
 "cells": [
  {
   "cell_type": "code",
   "execution_count": null,
   "metadata": {},
   "outputs": [],
   "source": [
    "import numpy as np"
   ]
  },
  {
   "cell_type": "code",
   "execution_count": null,
   "metadata": {},
   "outputs": [],
   "source": [
    "# The original 10k_test file contains more than 10k flows.\n",
    "\n",
    "test_path = './data/datasets/test_data/'\n",
    "filename = '10k_test_orig.npz'\n",
    "\n",
    "test_data = np.load(test_path+filename, allow_pickle=True)"
   ]
  },
  {
   "cell_type": "code",
   "execution_count": null,
   "metadata": {},
   "outputs": [],
   "source": [
    "filename = '2094_test.npz'\n",
    "\n",
    "test_windows1 = np.array([test_data['tor'][win][:2094] for win in range(11)])\n",
    "test_windows2 = np.array([test_data['exit'][win][:2094] for win in range(11)])\n",
    "\n",
    "np.savez_compressed(test_path+filename, tor=test_windows1, exit=test_windows2)"
   ]
  },
  {
   "cell_type": "code",
   "execution_count": null,
   "metadata": {},
   "outputs": [],
   "source": [
    "filename = '5k_test.npz'\n",
    "\n",
    "test_windows1 = np.array([test_data['tor'][win][:5000] for win in range(11)])\n",
    "test_windows2 = np.array([test_data['exit'][win][:5000] for win in range(11)])\n",
    "\n",
    "np.savez_compressed(test_path+filename, tor=test_windows1, exit=test_windows2)"
   ]
  },
  {
   "cell_type": "code",
   "execution_count": null,
   "metadata": {},
   "outputs": [],
   "source": [
    "filename = '7500_test.npz'\n",
    "\n",
    "test_windows1 = np.array([test_data['tor'][win][:7500] for win in range(11)])\n",
    "test_windows2 = np.array([test_data['exit'][win][:7500] for win in range(11)])\n",
    "\n",
    "np.savez_compressed(test_path+filename, tor=test_windows1, exit=test_windows2)"
   ]
  },
  {
   "cell_type": "code",
   "execution_count": null,
   "metadata": {},
   "outputs": [],
   "source": [
    "filename = '10k_test.npz'\n",
    "\n",
    "test_windows1 = np.array([test_data['tor'][win][:10000] for win in range(11)])\n",
    "test_windows2 = np.array([test_data['exit'][win][:10000] for win in range(11)])\n",
    "\n",
    "np.savez_compressed(test_path+filename, tor=test_windows1, exit=test_windows2)"
   ]
  }
 ],
 "metadata": {
  "language_info": {
   "name": "python"
  }
 },
 "nbformat": 4,
 "nbformat_minor": 2
}
